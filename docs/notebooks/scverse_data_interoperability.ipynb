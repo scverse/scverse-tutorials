{
 "cells": [
  {
   "cell_type": "markdown",
   "id": "fifth-grammar",
   "metadata": {},
   "source": [
    "# Interoperability between scverse data structures and other languages \n",
    "\n",
    "Here we provide a list of resources that can be used to work with scverse data structures from your language of choice.\n",
    "\n",
    "A more detailed tutorial on interoperability with other languages can be found in the [Single-cell analysis best-practices book](https://www.sc-best-practices.org/introduction/interoperability.html)."
   ]
  },
  {
   "cell_type": "markdown",
   "id": "pending-grenada",
   "metadata": {},
   "source": [
    "## Conversion between python and R structures for single-cell analysis\n",
    "\n",
    "Several toolkits for single-cell analysis in R build upon  [SingleCellExperiment](http://bioconductor.org/books/3.16/OSCA.intro/the-singlecellexperiment-class.html) objects or [Seurat](https://satijalab.org/seurat/) objects. The following table provides an indication of which objects slots store the same data in AnnData and R objects.\n",
    "\n",
    "|                                      | `AnnData`                | `SingleCellExperiment` | `Seurat`                           |\n",
    "|--------------------------------------|--------------------------|------------------------|------------------------------------|\n",
    "| **Active expression matrix**                       | `adata.X`                | `assay(sce)`             | `GetAssayData(seu)`           |\n",
    "| **Alternative expression matrices** | `adata.layers['counts']` | `counts(sce)`            | `GetAssay(seu)@counts`        |\n",
    "| **Cell-level metadata**                  | `adata.obs`              | `colData(sce)`           | `seu@meta.data`               |\n",
    "| **Gene-level metadata**                  | `adata.var`              | `rowData(sce)`           | `GetAssay(seu)@meta.features` |\n",
    "| **Dimensionality reductions**  | `adata.obsm`             | `reducedDim(sce)`        | `seu@reductions`              |\n",
    "| **cell IDs**                             | `adata.obs_names`        | `colnames(sce)`          | `colnames(seu)`               |\n",
    "| **gene IDs**                             | `adata.var_names`        | `rownames(sce)`          | `rownames(seu)`               |\n",
    "| **Cell-cell similarity graphs**          | `adata.obsp`             | ---                    | `seu@graphs`                  |"
   ]
  },
  {
   "cell_type": "markdown",
   "id": "executed-authority",
   "metadata": {},
   "source": [
    "### AnnData ⇄ Seurat objects\n",
    "\n",
    "See [Seurat documentation](https://satijalab.org/seurat/) for more details about Seurat objects.\n",
    "\n",
    "- [MuDataSeurat](https://pmbio.github.io/MuDataSeurat/) - R package to read and write `h5ad` files to and from Seurat objects\n",
    "- [sceasy](https://github.com/cellgeni/sceasy#usage) - R package to convert between objects within a session or saving `h5ad` or `rds` files \n",
    "- Using [reticulate](https://theislab.github.io/scanpy-in-R/#converting-from-python-to-r-1) - tutorial for conversion within R/Rmd sessions \n",
    "\n",
    "<!-- - Using [SeuratDisk](https://mojaveazure.github.io/seurat-disk/articles/convert-anndata.html) -->\n",
    "\n",
    "### AnnData ⇄ SingleCellExperiment objects\n",
    "\n",
    "See [OSCA book](http://bioconductor.org/books/3.16/OSCA.intro/the-singlecellexperiment-class.html) for more details about SingleCellExperiment objects.\n",
    "\n",
    "- [zellconverter](https://theislab.github.io/zellkonverter/articles/zellkonverter.html) - R/Bioconductor package to read and write `h5ad` files and to convert objects within R sessions using [basilisk](https://bioconductor.org/packages/release/bioc/html/basilisk.html)  \n",
    "- [anndata2ri](https://github.com/theislab/anndata2ri#anndata--singlecellexperiment) - python package to convert between objects within python sessions using [rpy2](https://github.com/rpy2/rpy2#readme) \n",
    "- [sceasy](https://github.com/cellgeni/sceasy#usage) - R package to convert between objects within a session or saving `h5ad` or `rds` files \n",
    "- Using [reticulate](https://theislab.github.io/scanpy-in-R/#converting-from-python-to-r-1) - tutorial for conversion within R/Rmd sessions \n",
    "\n",
    "### AnnData ⇄ Loom objects\n",
    "\n",
    "See [Loompy documentation](http://linnarssonlab.org/loompy/index.html) for more details about Loom objects.\n",
    "\n",
    "- Using [anndata](https://anndata.readthedocs.io/en/latest/generated/anndata.read_loom.html#anndata.read_loom) - function to read `loom` files as AnnData objects\n",
    "- [sceasy](https://github.com/cellgeni/sceasy#usage) - R package to convert between objects within a session or saving `h5ad` or `loom` files \n",
    "\n",
    "### MuData ⇄ Seurat objects\n",
    "\n",
    "See [Seurat documentation](https://satijalab.org/seurat/) for more details about Seurat objects.\n",
    "\n",
    "- [MuDataSeurat](https://pmbio.github.io/MuDataSeurat/) - R package to read and write `h5mu` files to and from Seurat objects\n",
    "\n",
    "### MuData ⇄ MultiAssayExperiment objects\n",
    "\n",
    "See [documentation](http://waldronlab.io/MultiAssayExperiment/) for more details about MultiAssayExperiment objects.\n",
    "\n",
    "- [MuData for MultiAssayExperiment](https://ilia-kats.github.io/MuData/articles/Getting-Started.html) - R package to read and write `h5mu` files to and from `MultiAssayExperiment` objects \n",
    "\n",
    "### MuData ⇄ ArchR objects\n",
    "\n",
    "See [ArchR documentation](https://www.archrproject.com/bookdown/what-is-an-arrow-file-archrproject.html) for more details about ArchR objects.\n",
    "\n",
    "- Using [chame](https://gtca.github.io/chame/examples/archr_io.html) - python package providing functionality to read Arrow files "
   ]
  },
  {
   "cell_type": "markdown",
   "id": "virtual-street",
   "metadata": {},
   "source": [
    "## Read h5ad/h5mu in other languages\n",
    "\n",
    "### Julia\n",
    "\n",
    "-  [Muon.jl](https://docs.juliahub.com/Muon/QfqCh/0.1.1/objects/) provides Julia implementations of ``AnnData`` and ``MuData`` objects, as well as IO for the HDF5 format\n",
    "-  [scVI.jl](https://maren-ha.github.io/scVI.jl/index.html) provides a Julia implementation of ``AnnData`` as well as IO for the HDF5 format.\n",
    "\n",
    "### Javascript\n",
    "\n",
    "-  [Vitessce](https://github.com/vitessce/vitessce) -contains loaders from ``AnnData``s stored as Zarr\n",
    "\n",
    "### Rust\n",
    "\n",
    "-  [anndata-rs](https://github.com/kaizhang/anndata-rs) provides a Rust implementation of ``AnnData`` as well as advanced IO support for the HDF5 storage format."
   ]
  }
 ],
 "metadata": {
  "kernelspec": {
   "display_name": "Python 3 (ipykernel)",
   "language": "python",
   "name": "python3"
  },
  "language_info": {
   "codemirror_mode": {
    "name": "ipython",
    "version": 3
   },
   "file_extension": ".py",
   "mimetype": "text/x-python",
   "name": "python",
   "nbconvert_exporter": "python",
   "pygments_lexer": "ipython3",
   "version": "3.10.6"
  }
 },
 "nbformat": 4,
 "nbformat_minor": 5
}
