{
 "cells": [
  {
   "cell_type": "markdown",
   "metadata": {},
   "source": [
    "# Concatenating multimodal experiments"
   ]
  },
  {
   "cell_type": "code",
   "execution_count": 1,
   "metadata": {},
   "outputs": [],
   "source": [
    "import warnings\n",
    "\n",
    "import anndata as ad\n",
    "import numpy as np\n",
    "import pandas as pd\n",
    "from mudata import MuData\n",
    "\n",
    "warnings.simplefilter(action=\"ignore\", category=FutureWarning)\n",
    "\n",
    "np.random.seed(1979)"
   ]
  },
  {
   "attachments": {},
   "cell_type": "markdown",
   "metadata": {},
   "source": [
    "Sometimes, you may want to concatenate 2 `MuData` objects because they represent complementary slices of the same dataset on which you have applied different processing. Think of analysing B and T cells separately for your PBMC typical dataset. \n",
    "Other times instead you need to concatenate 2 modalities into one `AnnData` because the tool you're working with doesn't currently support `MuData`  (yeah we know, how dare they?).\n",
    "We will showcase here these 2 scenarios of concatenation.\n",
    "\n",
    "\n",
    ":::{note}\n",
    "Native concatenation of two `MuData` objects is currently discussed in \n",
    "[scverse/mudata#20](https://github.com/scverse/mudata/issues/20) and may\n",
    "eventually make parts of this tutorial obsolete. \n",
    "\n",
    "Note that for some modalities, concatenation requires extra care. For instance, \n",
    "in the case of ATAC-seq, concatenation does not make sense unless fragments are aggregated first. \n",
    ":::"
   ]
  },
  {
   "attachments": {},
   "cell_type": "markdown",
   "metadata": {},
   "source": [
    "First, we need to import the raw data for a dataset of our choice. We use mudatasets package that conveniently collects some useful 10X single cell datasets that are publicly available. For this example we need a multimodal dataset, so select the *citeseq 5k* dataset, a collection of healthy PBMCs for which 2 modalities were profiled, RNA and PROTEINS."
   ]
  },
  {
   "cell_type": "code",
   "execution_count": 2,
   "metadata": {},
   "outputs": [
    {
     "data": {
      "text/plain": [
       "['pbmc5k_citeseq',\n",
       " 'pbmc10k_multiome',\n",
       " 'pbmc3k_multiome',\n",
       " 'brain3k_multiome',\n",
       " 'brain9k_multiome']"
      ]
     },
     "execution_count": 2,
     "metadata": {},
     "output_type": "execute_result"
    }
   ],
   "source": [
    "import mudatasets as mds\n",
    "\n",
    "mds.list_datasets()"
   ]
  },
  {
   "cell_type": "code",
   "execution_count": 3,
   "metadata": {},
   "outputs": [
    {
     "name": "stdout",
     "output_type": "stream",
     "text": [
      "■ File filtered_feature_bc_matrix.h5 from pbmc5k_citeseq has been found at /home/runner/mudatasets/pbmc5k_citeseq/filtered_feature_bc_matrix.h5\n",
      "■ Checksum is validated (md5) for filtered_feature_bc_matrix.h5\n"
     ]
    },
    {
     "name": "stderr",
     "output_type": "stream",
     "text": [
      "/usr/share/miniconda3/envs/tutorials/lib/python3.10/site-packages/mudatasets/core.py:203: UserWarning: Dataset is in the 10X .h5 format and can't be loaded as backed.\n",
      "  warn(\"Dataset is in the 10X .h5 format and can't be loaded as backed.\")\n"
     ]
    },
    {
     "name": "stderr",
     "output_type": "stream",
     "text": [
      "/usr/share/miniconda3/envs/tutorials/lib/python3.10/site-packages/tqdm/auto.py:21: TqdmWarning: IProgress not found. Please update jupyter and ipywidgets. See https://ipywidgets.readthedocs.io/en/stable/user_install.html\n",
      "  from .autonotebook import tqdm as notebook_tqdm\n"
     ]
    },
    {
     "name": "stdout",
     "output_type": "stream",
     "text": [
      "■ Loading filtered_feature_bc_matrix.h5...\n"
     ]
    },
    {
     "name": "stderr",
     "output_type": "stream",
     "text": [
      "/usr/share/miniconda3/envs/tutorials/lib/python3.10/site-packages/anndata/_core/anndata.py:1899: UserWarning: Variable names are not unique. To make them unique, call `.var_names_make_unique`.\n",
      "  utils.warn_names_duplicates(\"var\")\n",
      "/usr/share/miniconda3/envs/tutorials/lib/python3.10/site-packages/anndata/_core/anndata.py:1899: UserWarning: Variable names are not unique. To make them unique, call `.var_names_make_unique`.\n",
      "  utils.warn_names_duplicates(\"var\")\n"
     ]
    },
    {
     "name": "stderr",
     "output_type": "stream",
     "text": [
      "/usr/share/miniconda3/envs/tutorials/lib/python3.10/site-packages/mudata/_core/mudata.py:479: UserWarning: var_names are not unique. To make them unique, call `.var_names_make_unique`.\n",
      "  warnings.warn(\n"
     ]
    }
   ],
   "source": [
    "mds.info(\"pbmc5k_citeseq\")\n",
    "pbmc5k = mds.load(\"pbmc5k_citeseq\", files=[\"filtered_feature_bc_matrix.h5\"])"
   ]
  },
  {
   "cell_type": "code",
   "execution_count": 4,
   "metadata": {},
   "outputs": [
    {
     "data": {
      "text/html": [
       "<pre>MuData object with n_obs × n_vars = 5247 × 33570\n",
       "  var:\t&#x27;gene_ids&#x27;, &#x27;feature_types&#x27;, &#x27;genome&#x27;\n",
       "  2 modalities\n",
       "    rna:\t5247 x 33538\n",
       "      var:\t&#x27;gene_ids&#x27;, &#x27;feature_types&#x27;, &#x27;genome&#x27;\n",
       "    prot:\t5247 x 32\n",
       "      var:\t&#x27;gene_ids&#x27;, &#x27;feature_types&#x27;, &#x27;genome&#x27;</pre>"
      ],
      "text/plain": [
       "MuData object with n_obs × n_vars = 5247 × 33570\n",
       "  var:\t'gene_ids', 'feature_types', 'genome'\n",
       "  2 modalities\n",
       "    rna:\t5247 x 33538\n",
       "      var:\t'gene_ids', 'feature_types', 'genome'\n",
       "    prot:\t5247 x 32\n",
       "      var:\t'gene_ids', 'feature_types', 'genome'"
      ]
     },
     "execution_count": 4,
     "metadata": {},
     "output_type": "execute_result"
    }
   ],
   "source": [
    "pbmc5k"
   ]
  },
  {
   "attachments": {},
   "cell_type": "markdown",
   "metadata": {},
   "source": [
    "We create 2 different subsamples of the same underlying data for both RNA and PROT modalities."
   ]
  },
  {
   "cell_type": "code",
   "execution_count": 5,
   "metadata": {},
   "outputs": [],
   "source": [
    "rna = pbmc5k.mod[\"rna\"]\n",
    "prot = pbmc5k.mod[\"prot\"]"
   ]
  },
  {
   "cell_type": "code",
   "execution_count": 6,
   "metadata": {},
   "outputs": [],
   "source": [
    "rna_a = rna[np.arange(300), np.sort(np.random.choice(np.arange(1000), 1000, replace=False))].copy()\n",
    "prot_a = prot[rna_a.obs_names,].copy()\n",
    "\n",
    "\n",
    "rna_b = rna[np.arange(500, 900), np.sort(np.random.choice(np.arange(3000), 1000, replace=False))].copy()\n",
    "prot_b = prot[rna_b.obs_names, np.arange(15)].copy()"
   ]
  },
  {
   "attachments": {},
   "cell_type": "markdown",
   "metadata": {},
   "source": [
    "And we create the respective `MuData` objects."
   ]
  },
  {
   "cell_type": "code",
   "execution_count": 7,
   "metadata": {},
   "outputs": [],
   "source": [
    "mdata_a = MuData({\"prot\": prot_a, \"rna\": rna_a})\n",
    "mdata_b = MuData({\"prot\": prot_b, \"rna\": rna_b})"
   ]
  },
  {
   "cell_type": "code",
   "execution_count": 8,
   "metadata": {},
   "outputs": [
    {
     "data": {
      "text/html": [
       "<pre>MuData object with n_obs × n_vars = 300 × 1032\n",
       "  var:\t&#x27;gene_ids&#x27;, &#x27;feature_types&#x27;, &#x27;genome&#x27;\n",
       "  2 modalities\n",
       "    prot:\t300 x 32\n",
       "      var:\t&#x27;gene_ids&#x27;, &#x27;feature_types&#x27;, &#x27;genome&#x27;\n",
       "    rna:\t300 x 1000\n",
       "      var:\t&#x27;gene_ids&#x27;, &#x27;feature_types&#x27;, &#x27;genome&#x27;</pre>"
      ],
      "text/plain": [
       "MuData object with n_obs × n_vars = 300 × 1032\n",
       "  var:\t'gene_ids', 'feature_types', 'genome'\n",
       "  2 modalities\n",
       "    prot:\t300 x 32\n",
       "      var:\t'gene_ids', 'feature_types', 'genome'\n",
       "    rna:\t300 x 1000\n",
       "      var:\t'gene_ids', 'feature_types', 'genome'"
      ]
     },
     "execution_count": 8,
     "metadata": {},
     "output_type": "execute_result"
    }
   ],
   "source": [
    "mdata_a"
   ]
  },
  {
   "cell_type": "code",
   "execution_count": 9,
   "metadata": {},
   "outputs": [
    {
     "data": {
      "text/html": [
       "<pre>MuData object with n_obs × n_vars = 400 × 1015\n",
       "  var:\t&#x27;gene_ids&#x27;, &#x27;feature_types&#x27;, &#x27;genome&#x27;\n",
       "  2 modalities\n",
       "    prot:\t400 x 15\n",
       "      var:\t&#x27;gene_ids&#x27;, &#x27;feature_types&#x27;, &#x27;genome&#x27;\n",
       "    rna:\t400 x 1000\n",
       "      var:\t&#x27;gene_ids&#x27;, &#x27;feature_types&#x27;, &#x27;genome&#x27;</pre>"
      ],
      "text/plain": [
       "MuData object with n_obs × n_vars = 400 × 1015\n",
       "  var:\t'gene_ids', 'feature_types', 'genome'\n",
       "  2 modalities\n",
       "    prot:\t400 x 15\n",
       "      var:\t'gene_ids', 'feature_types', 'genome'\n",
       "    rna:\t400 x 1000\n",
       "      var:\t'gene_ids', 'feature_types', 'genome'"
      ]
     },
     "execution_count": 9,
     "metadata": {},
     "output_type": "execute_result"
    }
   ],
   "source": [
    "mdata_b"
   ]
  },
  {
   "attachments": {},
   "cell_type": "markdown",
   "metadata": {},
   "source": [
    "as you see, the 2 RNA subsamples don't share any cells, but they share some features. It's the same for the PROT assay."
   ]
  },
  {
   "cell_type": "code",
   "execution_count": 10,
   "metadata": {},
   "outputs": [
    {
     "data": {
      "text/plain": [
       "0"
      ]
     },
     "execution_count": 10,
     "metadata": {},
     "output_type": "execute_result"
    }
   ],
   "source": [
    "len(list(set(rna_a.obs_names.tolist()) & set(rna_b.obs_names.tolist())))"
   ]
  },
  {
   "cell_type": "code",
   "execution_count": 11,
   "metadata": {},
   "outputs": [
    {
     "data": {
      "text/plain": [
       "345"
      ]
     },
     "execution_count": 11,
     "metadata": {},
     "output_type": "execute_result"
    }
   ],
   "source": [
    "len(list(set(rna_a.var_names.tolist()) & set(rna_b.var_names.tolist())))"
   ]
  },
  {
   "cell_type": "code",
   "execution_count": 12,
   "metadata": {},
   "outputs": [
    {
     "data": {
      "text/plain": [
       "15"
      ]
     },
     "execution_count": 12,
     "metadata": {},
     "output_type": "execute_result"
    }
   ],
   "source": [
    "len(list(set(prot_a.var_names.tolist()) & set(prot_b.var_names.tolist())))"
   ]
  },
  {
   "cell_type": "markdown",
   "metadata": {},
   "source": [
    "## 1. Concatenate datasets, by modality"
   ]
  },
  {
   "cell_type": "markdown",
   "metadata": {},
   "source": [
    "In the `AnnData` convention, we store observations (samples or cells) in rows (`axis=0`)and variables (genes, proteins, atac regions, etc ...) in columns (`axis=1`).\n",
    "Both the rows and columns of this matrix are indexed, which allows us to link between each other the structured layers of the AnnData object. \n",
    "\n",
    "When we interact with both axes of these matrices, we modify the same axes on all the linked layers.\n",
    "\n",
    "In scRNA-seq data, each row corresponds to a cell with a barcode, and each column corresponds to a gene with a gene id, but in the protein assay of a CITEseq experiment the cells are the same along the `axis=0` and the features are different. \n",
    "\n",
    "To collect all the cells and features from 2 datasets we first have to concatenate each anndata and then build a new mudata with these.\n",
    "\n",
    "By default, anndata concatenates on `axis=0` "
   ]
  },
  {
   "cell_type": "code",
   "execution_count": 13,
   "metadata": {},
   "outputs": [
    {
     "data": {
      "text/plain": [
       "AnnData object with n_obs × n_vars = 700 × 345"
      ]
     },
     "execution_count": 13,
     "metadata": {},
     "output_type": "execute_result"
    }
   ],
   "source": [
    "ad.concat([rna_a, rna_b])"
   ]
  },
  {
   "cell_type": "code",
   "execution_count": 14,
   "metadata": {},
   "outputs": [
    {
     "data": {
      "text/plain": [
       "AnnData object with n_obs × n_vars = 700 × 345"
      ]
     },
     "execution_count": 14,
     "metadata": {},
     "output_type": "execute_result"
    }
   ],
   "source": [
    "ad.concat([rna_a, rna_b], axis=0)"
   ]
  },
  {
   "cell_type": "markdown",
   "metadata": {},
   "source": [
    "You may have noticed that anndata also defaults to create a concatenated version of the 2 RNA subsets with only the features that the 2 matrices have in common. This is the default scenario obtained by setting the parameter `join=\"inner\"`.\n",
    "\n",
    "There may be instances in which you don't want to lose the features that are missing from one of the 2 RNA, so let's try setting `join=\"outer\"`"
   ]
  },
  {
   "cell_type": "code",
   "execution_count": 15,
   "metadata": {},
   "outputs": [
    {
     "data": {
      "text/plain": [
       "AnnData object with n_obs × n_vars = 700 × 1655"
      ]
     },
     "execution_count": 15,
     "metadata": {},
     "output_type": "execute_result"
    }
   ],
   "source": [
    "ad.concat([rna_a, rna_b], axis=0, join=\"outer\")"
   ]
  },
  {
   "cell_type": "markdown",
   "metadata": {},
   "source": [
    "Anndata is also filling the variables that don't match with `0`, instead of `na` values.\n",
    "\n",
    "*NB since `axis=0` is the default behaviour, we will omit it in the future calls of the `concat` command for simplicity*"
   ]
  },
  {
   "cell_type": "code",
   "execution_count": 16,
   "metadata": {},
   "outputs": [
    {
     "data": {
      "text/plain": [
       "array([[0., 0., 0., ..., 0., 0., 0.],\n",
       "       [0., 0., 0., ..., 0., 0., 0.],\n",
       "       [0., 0., 0., ..., 0., 0., 0.],\n",
       "       ...,\n",
       "       [0., 0., 0., ..., 0., 0., 0.],\n",
       "       [0., 0., 0., ..., 0., 0., 0.],\n",
       "       [0., 0., 0., ..., 0., 0., 0.]], dtype=float32)"
      ]
     },
     "execution_count": 16,
     "metadata": {},
     "output_type": "execute_result"
    }
   ],
   "source": [
    "ad.concat([rna_a, rna_b], join=\"outer\").X.toarray()"
   ]
  },
  {
   "cell_type": "code",
   "execution_count": 17,
   "metadata": {},
   "outputs": [
    {
     "data": {
      "text/plain": [
       "False"
      ]
     },
     "execution_count": 17,
     "metadata": {},
     "output_type": "execute_result"
    }
   ],
   "source": [
    "np.isnan(ad.concat([rna_a, rna_b], join=\"outer\").X.toarray()).any()"
   ]
  },
  {
   "cell_type": "markdown",
   "metadata": {},
   "source": [
    "We can use the same convention to concatenate the two protein assays."
   ]
  },
  {
   "cell_type": "code",
   "execution_count": 18,
   "metadata": {},
   "outputs": [],
   "source": [
    "rna_c = ad.concat([rna_a, rna_b], join=\"outer\")\n",
    "prot_c = ad.concat([prot_a, prot_b], join=\"outer\")"
   ]
  },
  {
   "cell_type": "markdown",
   "metadata": {},
   "source": [
    "And now we create the new `MuData` object with the newly concatenated assays"
   ]
  },
  {
   "cell_type": "code",
   "execution_count": 19,
   "metadata": {},
   "outputs": [
    {
     "data": {
      "text/html": [
       "<pre>MuData object with n_obs × n_vars = 700 × 1687\n",
       "  2 modalities\n",
       "    rna:\t700 x 1655\n",
       "    prot:\t700 x 32</pre>"
      ],
      "text/plain": [
       "MuData object with n_obs × n_vars = 700 × 1687\n",
       "  2 modalities\n",
       "    rna:\t700 x 1655\n",
       "    prot:\t700 x 32"
      ]
     },
     "execution_count": 19,
     "metadata": {},
     "output_type": "execute_result"
    }
   ],
   "source": [
    "full = MuData({\"rna\": rna_c, \"prot\": prot_c})\n",
    "full"
   ]
  },
  {
   "cell_type": "markdown",
   "metadata": {},
   "source": [
    "## 2. Concatenating different modalities\n",
    "\n",
    "You may want to concatenate the RNA and the PROT modalities of the same cells. While we don't recommend using this type of concatenation, because we believe that every basic operation you would want to perform on a multimodal object is covered by creating a `MuData` object instead, we know that some of the tools that deal with multimodal data integration have not implemented MuData support yet.\n"
   ]
  },
  {
   "cell_type": "code",
   "execution_count": 20,
   "metadata": {},
   "outputs": [
    {
     "data": {
      "text/plain": [
       "AnnData object with n_obs × n_vars = 300 × 1000\n",
       "    var: 'gene_ids', 'feature_types', 'genome'"
      ]
     },
     "execution_count": 20,
     "metadata": {},
     "output_type": "execute_result"
    }
   ],
   "source": [
    "rna_a"
   ]
  },
  {
   "cell_type": "code",
   "execution_count": 21,
   "metadata": {},
   "outputs": [
    {
     "data": {
      "text/plain": [
       "AnnData object with n_obs × n_vars = 300 × 32\n",
       "    var: 'gene_ids', 'feature_types', 'genome'"
      ]
     },
     "execution_count": 21,
     "metadata": {},
     "output_type": "execute_result"
    }
   ],
   "source": [
    "prot_a"
   ]
  },
  {
   "cell_type": "code",
   "execution_count": 22,
   "metadata": {},
   "outputs": [
    {
     "data": {
      "text/plain": [
       "AnnData object with n_obs × n_vars = 300 × 1032\n",
       "    var: 'gene_ids', 'feature_types', 'genome'"
      ]
     },
     "execution_count": 22,
     "metadata": {},
     "output_type": "execute_result"
    }
   ],
   "source": [
    "adata_paired = ad.concat([rna_a, prot_a], axis=1)\n",
    "adata_paired"
   ]
  },
  {
   "cell_type": "markdown",
   "metadata": {},
   "source": [
    "we now have a concatenated anndata, whith 1032 `.var`  and 600 `.obs`. Let's take a look at the individual layers."
   ]
  },
  {
   "cell_type": "code",
   "execution_count": 23,
   "metadata": {},
   "outputs": [
    {
     "data": {
      "text/html": [
       "<div>\n",
       "<style scoped>\n",
       "    .dataframe tbody tr th:only-of-type {\n",
       "        vertical-align: middle;\n",
       "    }\n",
       "\n",
       "    .dataframe tbody tr th {\n",
       "        vertical-align: top;\n",
       "    }\n",
       "\n",
       "    .dataframe thead th {\n",
       "        text-align: right;\n",
       "    }\n",
       "</style>\n",
       "<table border=\"1\" class=\"dataframe\">\n",
       "  <thead>\n",
       "    <tr style=\"text-align: right;\">\n",
       "      <th></th>\n",
       "    </tr>\n",
       "  </thead>\n",
       "  <tbody>\n",
       "    <tr>\n",
       "      <th>AAACCCAAGAGACAAG-1</th>\n",
       "    </tr>\n",
       "    <tr>\n",
       "      <th>AAACCCAAGGCCTAGA-1</th>\n",
       "    </tr>\n",
       "    <tr>\n",
       "      <th>AAACCCAGTCGTGCCA-1</th>\n",
       "    </tr>\n",
       "    <tr>\n",
       "      <th>AAACCCATCGTGCATA-1</th>\n",
       "    </tr>\n",
       "    <tr>\n",
       "      <th>AAACGAAAGACAAGCC-1</th>\n",
       "    </tr>\n",
       "    <tr>\n",
       "      <th>...</th>\n",
       "    </tr>\n",
       "    <tr>\n",
       "      <th>ACACTGAAGTTCCGGC-1</th>\n",
       "    </tr>\n",
       "    <tr>\n",
       "      <th>ACACTGAGTGCCCGTA-1</th>\n",
       "    </tr>\n",
       "    <tr>\n",
       "      <th>ACACTGAGTTCGTTCC-1</th>\n",
       "    </tr>\n",
       "    <tr>\n",
       "      <th>ACAGAAAAGGTACTGG-1</th>\n",
       "    </tr>\n",
       "    <tr>\n",
       "      <th>ACAGAAACAAATGGAT-1</th>\n",
       "    </tr>\n",
       "  </tbody>\n",
       "</table>\n",
       "<p>300 rows × 0 columns</p>\n",
       "</div>"
      ],
      "text/plain": [
       "Empty DataFrame\n",
       "Columns: []\n",
       "Index: [AAACCCAAGAGACAAG-1, AAACCCAAGGCCTAGA-1, AAACCCAGTCGTGCCA-1, AAACCCATCGTGCATA-1, AAACGAAAGACAAGCC-1, AAACGAAAGAGTGACC-1, AAACGAACATGCCATA-1, AAACGAAGTAATGATG-1, AAACGAAGTTAAAGTG-1, AAACGAATCATACAGC-1, AAACGAATCGTGGAAG-1, AAACGCTAGGTTGGAC-1, AAACGCTCATGCACTA-1, AAACGCTGTACAAACA-1, AAAGAACAGGCCGCTT-1, AAAGAACGTGGATCAG-1, AAAGAACTCCTTATAC-1, AAAGGATAGAGGCCAT-1, AAAGGATCACACTTAG-1, AAAGGATGTGATTAGA-1, AAAGGATGTGGTTTGT-1, AAAGGATTCGAGAATA-1, AAAGGATTCTAAGAAG-1, AAAGGATTCTCTATAC-1, AAAGGGCAGCCGATCC-1, AAAGGGCCAGCCGGTT-1, AAAGGGCGTGACAGCA-1, AAAGGGCGTTCAAACC-1, AAAGGGCTCAGTCACA-1, AAAGGGCTCATTTGGG-1, AAAGGGCTCGAACCAT-1, AAAGGGCTCGGTGTAT-1, AAAGGGCTCTGCTTAT-1, AAAGGTAAGTGCTCGC-1, AAAGGTACATGAGAAT-1, AAAGGTAGTCGCGTCA-1, AAAGGTAGTGTAACGG-1, AAAGGTAGTTACGATC-1, AAAGGTATCCTTATGT-1, AAAGTCCAGCCAGAGT-1, AAAGTCCCAAATTAGG-1, AAAGTCCCAACCACAT-1, AAAGTCCCACAAGGTG-1, AAAGTCCGTAGCTTTG-1, AAAGTCCGTGTGTCGC-1, AAAGTGAAGCAGCGAT-1, AAAGTGAAGTGCAGCA-1, AAAGTGAAGTTCCGTA-1, AAAGTGACAGAGCTAG-1, AAAGTGAGTCGGCTAC-1, AAAGTGAGTTTGTTGG-1, AAATGGAAGATCGCTT-1, AAATGGAAGGCGCTCT-1, AAATGGAGTGGCAGAT-1, AAATGGAGTTAAGTCC-1, AAATGGATCCGGGACT-1, AAATGGATCGCATTGA-1, AACAAAGCAACAAGTA-1, AACAAAGGTCATGCAT-1, AACAAAGTCTTCGCTG-1, AACAACCAGGATGTTA-1, AACAACCCATGACTCA-1, AACAACCGTGCACATT-1, AACAACCTCGAGTGGA-1, AACAACCTCGGTCACG-1, AACAACCTCTAAGAAG-1, AACAAGAAGAAGCCAC-1, AACAAGAAGCCGTCGT-1, AACAAGAAGCGTACAG-1, AACAAGACAACTGCTA-1, AACAAGAGTCATAACC-1, AACAAGATCCCATAGA-1, AACAAGATCGCTCTAC-1, AACACACAGATGGCGT-1, AACACACAGGGCTGAT-1, AACACACCACGCTGCA-1, AACACACGTAACAGGC-1, AACACACGTACGTGTT-1, AACACACGTTGGGATG-1, AACACACTCTATCACT-1, AACAGGGAGATACATG-1, AACAGGGGTAACATAG-1, AACAGGGGTCAACATC-1, AACAGGGGTCAGTCCG-1, AACAGGGTCAATCGGT-1, AACCAACCACAGTATC-1, AACCAACGTAACATCC-1, AACCAACGTCACAGAG-1, AACCAACGTCAGGTAG-1, AACCATGAGATCGGTG-1, AACCATGAGGTCGTCC-1, AACCATGTCTAAGGAA-1, AACCCAAAGGGTGGGA-1, AACCCAACAGCGGTTC-1, AACCCAAGTATCGGTT-1, AACCTGAAGCTGGCTC-1, AACCTGAAGTGCAGGT-1, AACCTGAGTCGAACGA-1, AACCTGAGTCGAGCTC-1, AACCTGAGTCTCTCAC-1, ...]\n",
       "\n",
       "[300 rows x 0 columns]"
      ]
     },
     "execution_count": 23,
     "metadata": {},
     "output_type": "execute_result"
    }
   ],
   "source": [
    "adata_paired.obs"
   ]
  },
  {
   "cell_type": "code",
   "execution_count": 24,
   "metadata": {},
   "outputs": [
    {
     "data": {
      "text/html": [
       "<div>\n",
       "<style scoped>\n",
       "    .dataframe tbody tr th:only-of-type {\n",
       "        vertical-align: middle;\n",
       "    }\n",
       "\n",
       "    .dataframe tbody tr th {\n",
       "        vertical-align: top;\n",
       "    }\n",
       "\n",
       "    .dataframe thead th {\n",
       "        text-align: right;\n",
       "    }\n",
       "</style>\n",
       "<table border=\"1\" class=\"dataframe\">\n",
       "  <thead>\n",
       "    <tr style=\"text-align: right;\">\n",
       "      <th></th>\n",
       "      <th>gene_ids</th>\n",
       "      <th>feature_types</th>\n",
       "      <th>genome</th>\n",
       "    </tr>\n",
       "  </thead>\n",
       "  <tbody>\n",
       "    <tr>\n",
       "      <th>MIR1302-2HG</th>\n",
       "      <td>ENSG00000243485</td>\n",
       "      <td>Gene Expression</td>\n",
       "      <td>GRCh38</td>\n",
       "    </tr>\n",
       "    <tr>\n",
       "      <th>FAM138A</th>\n",
       "      <td>ENSG00000237613</td>\n",
       "      <td>Gene Expression</td>\n",
       "      <td>GRCh38</td>\n",
       "    </tr>\n",
       "    <tr>\n",
       "      <th>OR4F5</th>\n",
       "      <td>ENSG00000186092</td>\n",
       "      <td>Gene Expression</td>\n",
       "      <td>GRCh38</td>\n",
       "    </tr>\n",
       "    <tr>\n",
       "      <th>AL627309.1</th>\n",
       "      <td>ENSG00000238009</td>\n",
       "      <td>Gene Expression</td>\n",
       "      <td>GRCh38</td>\n",
       "    </tr>\n",
       "    <tr>\n",
       "      <th>AL627309.3</th>\n",
       "      <td>ENSG00000239945</td>\n",
       "      <td>Gene Expression</td>\n",
       "      <td>GRCh38</td>\n",
       "    </tr>\n",
       "    <tr>\n",
       "      <th>...</th>\n",
       "      <td>...</td>\n",
       "      <td>...</td>\n",
       "      <td>...</td>\n",
       "    </tr>\n",
       "    <tr>\n",
       "      <th>HLA-DR_TotalSeqB</th>\n",
       "      <td>HLA-DR</td>\n",
       "      <td>Antibody Capture</td>\n",
       "      <td></td>\n",
       "    </tr>\n",
       "    <tr>\n",
       "      <th>TIGIT_TotalSeqB</th>\n",
       "      <td>TIGIT</td>\n",
       "      <td>Antibody Capture</td>\n",
       "      <td></td>\n",
       "    </tr>\n",
       "    <tr>\n",
       "      <th>IgG1_control_TotalSeqB</th>\n",
       "      <td>IgG1</td>\n",
       "      <td>Antibody Capture</td>\n",
       "      <td></td>\n",
       "    </tr>\n",
       "    <tr>\n",
       "      <th>IgG2a_control_TotalSeqB</th>\n",
       "      <td>IgG2a</td>\n",
       "      <td>Antibody Capture</td>\n",
       "      <td></td>\n",
       "    </tr>\n",
       "    <tr>\n",
       "      <th>IgG2b_control_TotalSeqB</th>\n",
       "      <td>IgG2b</td>\n",
       "      <td>Antibody Capture</td>\n",
       "      <td></td>\n",
       "    </tr>\n",
       "  </tbody>\n",
       "</table>\n",
       "<p>1032 rows × 3 columns</p>\n",
       "</div>"
      ],
      "text/plain": [
       "                                gene_ids     feature_types  genome\n",
       "MIR1302-2HG              ENSG00000243485   Gene Expression  GRCh38\n",
       "FAM138A                  ENSG00000237613   Gene Expression  GRCh38\n",
       "OR4F5                    ENSG00000186092   Gene Expression  GRCh38\n",
       "AL627309.1               ENSG00000238009   Gene Expression  GRCh38\n",
       "AL627309.3               ENSG00000239945   Gene Expression  GRCh38\n",
       "...                                  ...               ...     ...\n",
       "HLA-DR_TotalSeqB                  HLA-DR  Antibody Capture        \n",
       "TIGIT_TotalSeqB                    TIGIT  Antibody Capture        \n",
       "IgG1_control_TotalSeqB              IgG1  Antibody Capture        \n",
       "IgG2a_control_TotalSeqB            IgG2a  Antibody Capture        \n",
       "IgG2b_control_TotalSeqB            IgG2b  Antibody Capture        \n",
       "\n",
       "[1032 rows x 3 columns]"
      ]
     },
     "execution_count": 24,
     "metadata": {},
     "output_type": "execute_result"
    }
   ],
   "source": [
    "adata_paired.var"
   ]
  },
  {
   "cell_type": "markdown",
   "metadata": {},
   "source": [
    "the `.obs` layer is empty now, and we need to repopulate it. "
   ]
  },
  {
   "cell_type": "code",
   "execution_count": 25,
   "metadata": {},
   "outputs": [],
   "source": [
    "rna_cols = rna_a.obs.columns\n",
    "prot_cols = prot_a.obs.columns\n",
    "\n",
    "rnaobs = rna_a.obs.copy()\n",
    "rnaobs.columns = [\"rna:\" + x for x in rna_cols]\n",
    "protobs = prot.obs.copy()\n",
    "protobs.columns = [\"prot:\" + x for x in prot_cols]\n",
    "adata_paired.obs = pd.merge(rnaobs, protobs, left_index=True, right_index=True)"
   ]
  },
  {
   "cell_type": "markdown",
   "metadata": {},
   "source": [
    "For more information on how anndata perform concatenation please check this [tutorial](https://anndata.readthedocs.io/en/latest/concatenation.html) \n",
    "\n",
    "\n"
   ]
  }
 ],
 "metadata": {
  "kernelspec": {
   "display_name": "Python 3 (ipykernel)",
   "language": "python",
   "name": "python3"
  },
  "language_info": {
   "codemirror_mode": {
    "name": "ipython",
    "version": 3
   },
   "file_extension": ".py",
   "mimetype": "text/x-python",
   "name": "python",
   "nbconvert_exporter": "python",
   "pygments_lexer": "ipython3",
   "version": "3.10.6"
  },
  "vscode": {
   "interpreter": {
    "hash": "9f2c2ed92b9244d41be0bdd21ae19cc7b57648bb6fdcd4cb66fc3fbd398bef96"
   }
  }
 },
 "nbformat": 4,
 "nbformat_minor": 2
}
